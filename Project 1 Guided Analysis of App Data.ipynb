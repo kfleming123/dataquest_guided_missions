{
 "cells": [
  {
   "cell_type": "markdown",
   "metadata": {},
   "source": [
    "DataQuest Project 1: App Usage Data Analysis\n",
    "\n",
    "This project analyzes data for a company that builds Android and iOS mobile apps.  The goal of the project is to make recommendations designed to attract more users on Google Play and the App store thus maximizing in-app ad revenue."
   ]
  },
  {
   "cell_type": "code",
   "execution_count": 2,
   "metadata": {
    "collapsed": false
   },
   "outputs": [],
   "source": [
    "import csv        \n",
    "def explore_data(dataset, start, end, rows_and_columns=False):\n",
    "    dataset_slice = dataset[start:end]    \n",
    "    for row in dataset_slice:\n",
    "        print(row)\n",
    "        print('\\n') # adds a new (empty) line after each row\n",
    "\n",
    "    if rows_and_columns:\n",
    "        print('Number of rows:', len(dataset))\n",
    "        print('Number of columns:', len(dataset[0]))\n",
    "data_set1 = open(\"AppleStore.csv\")\n",
    "ios = list(csv.reader(data_set1))\n",
    "data_set2 = open(\"googleplaystore.csv\")\n",
    "google = list(csv.reader(data_set2))"
   ]
  },
  {
   "cell_type": "code",
   "execution_count": 3,
   "metadata": {
    "collapsed": false
   },
   "outputs": [
    {
     "name": "stdout",
     "output_type": "stream",
     "text": [
      "['id', 'track_name', 'size_bytes', 'currency', 'price', 'rating_count_tot', 'rating_count_ver', 'user_rating', 'user_rating_ver', 'ver', 'cont_rating', 'prime_genre', 'sup_devices.num', 'ipadSc_urls.num', 'lang.num', 'vpp_lic']\n",
      "\n",
      "\n",
      "['284882215', 'Facebook', '389879808', 'USD', '0.0', '2974676', '212', '3.5', '3.5', '95.0', '4+', 'Social Networking', '37', '1', '29', '1']\n",
      "\n",
      "\n",
      "['389801252', 'Instagram', '113954816', 'USD', '0.0', '2161558', '1289', '4.5', '4.0', '10.23', '12+', 'Photo & Video', '37', '0', '29', '1']\n",
      "\n",
      "\n",
      "['529479190', 'Clash of Clans', '116476928', 'USD', '0.0', '2130805', '579', '4.5', '4.5', '9.24.12', '9+', 'Games', '38', '5', '18', '1']\n",
      "\n",
      "\n",
      "['420009108', 'Temple Run', '65921024', 'USD', '0.0', '1724546', '3842', '4.5', '4.0', '1.6.2', '9+', 'Games', '40', '5', '1', '1']\n",
      "\n",
      "\n",
      "Number of rows: 7198\n",
      "Number of columns: 16\n"
     ]
    }
   ],
   "source": [
    "# Explore the iOS data displaying first 10 items\n",
    "explore_data(ios, 0, 5, True)"
   ]
  },
  {
   "cell_type": "code",
   "execution_count": 4,
   "metadata": {
    "collapsed": false
   },
   "outputs": [
    {
     "name": "stdout",
     "output_type": "stream",
     "text": [
      "['App', 'Category', 'Rating', 'Reviews', 'Size', 'Installs', 'Type', 'Price', 'Content Rating', 'Genres', 'Last Updated', 'Current Ver', 'Android Ver']\n",
      "\n",
      "\n",
      "['Photo Editor & Candy Camera & Grid & ScrapBook', 'ART_AND_DESIGN', '4.1', '159', '19M', '10,000+', 'Free', '0', 'Everyone', 'Art & Design', 'January 7, 2018', '1.0.0', '4.0.3 and up']\n",
      "\n",
      "\n",
      "['Coloring book moana', 'ART_AND_DESIGN', '3.9', '967', '14M', '500,000+', 'Free', '0', 'Everyone', 'Art & Design;Pretend Play', 'January 15, 2018', '2.0.0', '4.0.3 and up']\n",
      "\n",
      "\n",
      "['U Launcher Lite – FREE Live Cool Themes, Hide Apps', 'ART_AND_DESIGN', '4.7', '87510', '8.7M', '5,000,000+', 'Free', '0', 'Everyone', 'Art & Design', 'August 1, 2018', '1.2.4', '4.0.3 and up']\n",
      "\n",
      "\n",
      "['Sketch - Draw & Paint', 'ART_AND_DESIGN', '4.5', '215644', '25M', '50,000,000+', 'Free', '0', 'Teen', 'Art & Design', 'June 8, 2018', 'Varies with device', '4.2 and up']\n",
      "\n",
      "\n",
      "Number of rows: 10842\n",
      "Number of columns: 13\n"
     ]
    }
   ],
   "source": [
    "# Explore the Google data displaying first 5 items\n",
    "explore_data(google, 0, 5, True)"
   ]
  },
  {
   "cell_type": "code",
   "execution_count": 5,
   "metadata": {
    "collapsed": false
   },
   "outputs": [
    {
     "data": {
      "text/plain": [
       "['Life Made WI-Fi Touchscreen Photo Frame',\n",
       " '1.9',\n",
       " '19',\n",
       " '3.0M',\n",
       " '1,000+',\n",
       " 'Free',\n",
       " '0',\n",
       " 'Everyone',\n",
       " '',\n",
       " 'February 11, 2018',\n",
       " '1.0.19',\n",
       " '4.0 and up']"
      ]
     },
     "execution_count": 5,
     "metadata": {},
     "output_type": "execute_result"
    }
   ],
   "source": [
    "# Error with the Google dataset entry 10473\n",
    "google[10473]"
   ]
  },
  {
   "cell_type": "code",
   "execution_count": 6,
   "metadata": {
    "collapsed": false
   },
   "outputs": [
    {
     "data": {
      "text/plain": [
       "['osmino Wi-Fi: free WiFi',\n",
       " 'TOOLS',\n",
       " '4.2',\n",
       " '134203',\n",
       " '4.1M',\n",
       " '10,000,000+',\n",
       " 'Free',\n",
       " '0',\n",
       " 'Everyone',\n",
       " 'Tools',\n",
       " 'August 7, 2018',\n",
       " '6.06.14',\n",
       " '4.4 and up']"
      ]
     },
     "execution_count": 6,
     "metadata": {},
     "output_type": "execute_result"
    }
   ],
   "source": [
    "del google[10473]\n",
    "google[10473]"
   ]
  },
  {
   "cell_type": "code",
   "execution_count": 7,
   "metadata": {
    "collapsed": false
   },
   "outputs": [
    {
     "name": "stdout",
     "output_type": "stream",
     "text": [
      "1181\n"
     ]
    },
    {
     "data": {
      "text/plain": [
       "['Quick PDF Scanner + OCR FREE',\n",
       " 'Box',\n",
       " 'Google My Business',\n",
       " 'ZOOM Cloud Meetings',\n",
       " 'join.me - Simple Meetings',\n",
       " 'Box',\n",
       " 'Zenefits',\n",
       " 'Google Ads',\n",
       " 'Google My Business',\n",
       " 'Slack']"
      ]
     },
     "execution_count": 7,
     "metadata": {},
     "output_type": "execute_result"
    }
   ],
   "source": [
    "# Google data has duplicate apps so we need to remove them.\n",
    "# We'll keep the version with the most reviews since that version \n",
    "# likely has the most recent data.\n",
    "unique_apps = []\n",
    "duplicate_apps = []\n",
    "for row in google:\n",
    "    app_name = row[0]\n",
    "    if app_name in unique_apps:\n",
    "        duplicate_apps.append(app_name)\n",
    "    else:\n",
    "        unique_apps.append(app_name)    \n",
    "print(len(duplicate_apps))\n",
    "duplicate_apps[0:10]"
   ]
  },
  {
   "cell_type": "code",
   "execution_count": 8,
   "metadata": {
    "collapsed": false
   },
   "outputs": [
    {
     "name": "stdout",
     "output_type": "stream",
     "text": [
      "9659\n"
     ]
    }
   ],
   "source": [
    "reviews_max = {}\n",
    "for row in google[1:]:\n",
    "    name = row[0]\n",
    "    n_reviews = float(row[3])\n",
    "    if name in reviews_max:\n",
    "        if reviews_max[name] < n_reviews:\n",
    "            reviews_max[name] = n_reviews\n",
    "    if name not in reviews_max:\n",
    "        reviews_max[name] = n_reviews\n",
    "print(len(reviews_max))"
   ]
  },
  {
   "cell_type": "markdown",
   "metadata": {
    "collapsed": true
   },
   "source": [
    "To clean the Google data set, we need to eliminate duplicate applications keeping the instance with the most reviews.  We'll create 2 lists, one to contain the unique apps data and one to keep track of the apps that have been added.  We'll only add the app if its reviews match the reviews_max created previously."
   ]
  },
  {
   "cell_type": "code",
   "execution_count": 9,
   "metadata": {
    "collapsed": false
   },
   "outputs": [
    {
     "name": "stdout",
     "output_type": "stream",
     "text": [
      "9659\n"
     ]
    },
    {
     "data": {
      "text/plain": [
       "[['Photo Editor & Candy Camera & Grid & ScrapBook',\n",
       "  'ART_AND_DESIGN',\n",
       "  '4.1',\n",
       "  '159',\n",
       "  '19M',\n",
       "  '10,000+',\n",
       "  'Free',\n",
       "  '0',\n",
       "  'Everyone',\n",
       "  'Art & Design',\n",
       "  'January 7, 2018',\n",
       "  '1.0.0',\n",
       "  '4.0.3 and up'],\n",
       " ['U Launcher Lite – FREE Live Cool Themes, Hide Apps',\n",
       "  'ART_AND_DESIGN',\n",
       "  '4.7',\n",
       "  '87510',\n",
       "  '8.7M',\n",
       "  '5,000,000+',\n",
       "  'Free',\n",
       "  '0',\n",
       "  'Everyone',\n",
       "  'Art & Design',\n",
       "  'August 1, 2018',\n",
       "  '1.2.4',\n",
       "  '4.0.3 and up'],\n",
       " ['Sketch - Draw & Paint',\n",
       "  'ART_AND_DESIGN',\n",
       "  '4.5',\n",
       "  '215644',\n",
       "  '25M',\n",
       "  '50,000,000+',\n",
       "  'Free',\n",
       "  '0',\n",
       "  'Teen',\n",
       "  'Art & Design',\n",
       "  'June 8, 2018',\n",
       "  'Varies with device',\n",
       "  '4.2 and up'],\n",
       " ['Pixel Draw - Number Art Coloring Book',\n",
       "  'ART_AND_DESIGN',\n",
       "  '4.3',\n",
       "  '967',\n",
       "  '2.8M',\n",
       "  '100,000+',\n",
       "  'Free',\n",
       "  '0',\n",
       "  'Everyone',\n",
       "  'Art & Design;Creativity',\n",
       "  'June 20, 2018',\n",
       "  '1.1',\n",
       "  '4.4 and up'],\n",
       " ['Paper flowers instructions',\n",
       "  'ART_AND_DESIGN',\n",
       "  '4.4',\n",
       "  '167',\n",
       "  '5.6M',\n",
       "  '50,000+',\n",
       "  'Free',\n",
       "  '0',\n",
       "  'Everyone',\n",
       "  'Art & Design',\n",
       "  'March 26, 2017',\n",
       "  '1.0',\n",
       "  '2.3 and up']]"
      ]
     },
     "execution_count": 9,
     "metadata": {},
     "output_type": "execute_result"
    }
   ],
   "source": [
    "android_clean = []\n",
    "already_added = []\n",
    "for row in google[1:]:\n",
    "    name = row[0]\n",
    "    n_reviews = float(row[3])\n",
    "    if n_reviews == reviews_max[name]:\n",
    "        if name not in already_added:\n",
    "            android_clean.append(row)\n",
    "            already_added.append(name)\n",
    "print(len(android_clean))\n",
    "android_clean[0:5]"
   ]
  },
  {
   "cell_type": "code",
   "execution_count": 10,
   "metadata": {
    "collapsed": false
   },
   "outputs": [
    {
     "name": "stdout",
     "output_type": "stream",
     "text": [
      "True\n",
      "False\n",
      "True\n",
      "True\n"
     ]
    }
   ],
   "source": [
    "# Check whether or not an app is intended for English speakers\n",
    "# using ASCII and ord() function.  We'll require more than 3 non-ASCII\n",
    "# characters to consider it non-English\n",
    "def check_english(string):\n",
    "    english = True\n",
    "    count = 0\n",
    "    for i in range(len(string)):\n",
    "        if ord(string[i]) > 127:\n",
    "            count +=1\n",
    "            if count > 3:\n",
    "                english = False\n",
    "                return english\n",
    "    return english\n",
    "print(check_english('Instagram'))\n",
    "print(check_english('爱奇艺PPS -《欢乐颂2》电视剧热播'))\n",
    "print(check_english('Docs To Go™ Free Office Suite'))\n",
    "print(check_english('Instachat 😜'))"
   ]
  },
  {
   "cell_type": "code",
   "execution_count": 11,
   "metadata": {
    "collapsed": false
   },
   "outputs": [
    {
     "name": "stdout",
     "output_type": "stream",
     "text": [
      "7197\n",
      "9614\n"
     ]
    }
   ],
   "source": [
    "ios_english = []\n",
    "android_clean_english = []\n",
    "for row in ios[1:]:\n",
    "    name = row[0]\n",
    "    if check_english(name):\n",
    "        ios_english.append(row)\n",
    "for row in android_clean:\n",
    "    name = row[0]\n",
    "    if check_english(name):\n",
    "        android_clean_english.append(row)\n",
    "print(len(ios_english))\n",
    "print(len(android_clean_english))"
   ]
  },
  {
   "cell_type": "code",
   "execution_count": 12,
   "metadata": {
    "collapsed": false
   },
   "outputs": [
    {
     "name": "stdout",
     "output_type": "stream",
     "text": [
      "4056\n",
      "8863\n"
     ]
    }
   ],
   "source": [
    "ios_english_free = []\n",
    "android_clean_english_free = []\n",
    "for row in ios_english:\n",
    "    price = float(row[4])\n",
    "    if price == 0:\n",
    "        ios_english_free.append(row)\n",
    "for row in android_clean_english:\n",
    "    free = row[6]\n",
    "    if free == 'Free':\n",
    "        android_clean_english_free.append(row)\n",
    "print(len(ios_english_free))\n",
    "print(len(android_clean_english_free))"
   ]
  },
  {
   "cell_type": "markdown",
   "metadata": {},
   "source": [
    "We would like to develop a successful app using minimal resources.  The plan involves 3 steps:\n",
    "\n",
    "1) Build a bare bones Android version of the app, and add it to Google Play.\n",
    "2) Given successful initial reception, we'll further develop the app.\n",
    "3) If the app success continues for an additional 6 months, we'll then develop the app for iOS.\n",
    "\n",
    "To validate this strategy, we'll look for apps that have been successful on both the Google and iOS platforms. "
   ]
  },
  {
   "cell_type": "code",
   "execution_count": 13,
   "metadata": {
    "collapsed": false
   },
   "outputs": [],
   "source": [
    "def freq_table(dataset, index):\n",
    "    freq_table = {}\n",
    "    length = len(dataset)\n",
    "    for list in dataset:\n",
    "        name = list[index]\n",
    "        if name in freq_table:\n",
    "            freq_table[name] += 1\n",
    "        else:\n",
    "            freq_table[name] = 1\n",
    "    for key in freq_table:\n",
    "        freq_table[key] /= length\n",
    "    return freq_table"
   ]
  },
  {
   "cell_type": "code",
   "execution_count": 14,
   "metadata": {
    "collapsed": false
   },
   "outputs": [
    {
     "name": "stdout",
     "output_type": "stream",
     "text": [
      "Apple Prime Genre:\n",
      "Games : 0.5564595660749507\n",
      "Entertainment : 0.08234714003944774\n",
      "Photo & Video : 0.04117357001972387\n",
      "Social Networking : 0.035256410256410256\n",
      "Education : 0.03254437869822485\n",
      "Shopping : 0.029832347140039447\n",
      "Utilities : 0.02687376725838264\n",
      "Lifestyle : 0.023175542406311637\n",
      "Finance : 0.020710059171597635\n",
      "Sports : 0.01947731755424063\n",
      "Health & Fitness : 0.01873767258382643\n",
      "Music : 0.016518737672583828\n",
      "Book : 0.016272189349112426\n",
      "Productivity : 0.015285996055226824\n",
      "News : 0.014299802761341223\n",
      "Travel : 0.013806706114398421\n",
      "Food & Drink : 0.010601577909270217\n",
      "Weather : 0.007642998027613412\n",
      "Reference : 0.004930966469428008\n",
      "Navigation : 0.004930966469428008\n",
      "Business : 0.004930966469428008\n",
      "Catalogs : 0.0022189349112426036\n",
      "Medical : 0.0019723865877712033\n",
      "\n",
      "Google Genres:\n",
      "Tools : 0.08450863138892023\n",
      "Entertainment : 0.06070179397495205\n",
      "Education : 0.053480762721426156\n",
      "Business : 0.04592124562789123\n",
      "Productivity : 0.038925871601038026\n",
      "Lifestyle : 0.038925871601038026\n",
      "Finance : 0.037007785174320205\n",
      "Medical : 0.03531535597427508\n",
      "Sports : 0.03463838429425702\n",
      "Personalization : 0.03317161232088458\n",
      "Communication : 0.03238181202753018\n",
      "Action : 0.031027868667494077\n",
      "Health & Fitness : 0.030802211440821393\n",
      "Photography : 0.029448268080785288\n",
      "News & Magazines : 0.02798149610741284\n",
      "Social : 0.026627552747376736\n",
      "Travel & Local : 0.02324269434728647\n",
      "Shopping : 0.02245289405393208\n",
      "Books & Reference : 0.021437436533904997\n",
      "Simulation : 0.02042197901387792\n",
      "Dating : 0.018616721200496445\n",
      "Arcade : 0.018503892587160103\n",
      "Video Players & Editors : 0.01771409229380571\n",
      "Casual : 0.017601263680469367\n",
      "Maps & Navigation : 0.01399074805370642\n",
      "Food & Drink : 0.01241114746699763\n",
      "Puzzle : 0.01128286133363421\n",
      "Racing : 0.009928917973598104\n",
      "Role Playing : 0.009364774906916394\n",
      "Libraries & Demo : 0.009364774906916394\n",
      "Auto & Vehicles : 0.009251946293580051\n",
      "Strategy : 0.009026289066907368\n",
      "House & Home : 0.008236488773552974\n",
      "Weather : 0.008010831546880289\n",
      "Events : 0.007108202640189552\n",
      "Adventure : 0.006769716800180525\n",
      "Comics : 0.006092745120162473\n",
      "Beauty : 0.0059799165068261315\n",
      "Art & Design : 0.0059799165068261315\n",
      "Parenting : 0.004964458986799052\n",
      "Card : 0.004513144533453684\n",
      "Casino : 0.0042874873067809995\n",
      "Trivia : 0.004174658693444658\n",
      "Educational;Education : 0.003949001466771973\n",
      "Board : 0.0038361728534356313\n",
      "Educational : 0.0037233442400992894\n",
      "Education;Education : 0.0033848584000902627\n",
      "Word : 0.0025950581067358683\n",
      "Casual;Pretend Play : 0.002369400880063184\n",
      "Music : 0.002030915040054158\n",
      "Racing;Action & Adventure : 0.0016924292000451314\n",
      "Puzzle;Brain Games : 0.0016924292000451314\n",
      "Entertainment;Music & Video : 0.0016924292000451314\n",
      "Casual;Brain Games : 0.0013539433600361051\n",
      "Casual;Action & Adventure : 0.0013539433600361051\n",
      "Arcade;Action & Adventure : 0.001241114746699763\n",
      "Action;Action & Adventure : 0.001015457520027079\n",
      "Educational;Pretend Play : 0.0009026289066907368\n",
      "Simulation;Action & Adventure : 0.0007898002933543947\n",
      "Parenting;Education : 0.0007898002933543947\n",
      "Entertainment;Brain Games : 0.0007898002933543947\n",
      "Board;Brain Games : 0.0007898002933543947\n",
      "Parenting;Music & Video : 0.0006769716800180526\n",
      "Educational;Brain Games : 0.0006769716800180526\n",
      "Casual;Creativity : 0.0006769716800180526\n",
      "Art & Design;Creativity : 0.0006769716800180526\n",
      "Education;Pretend Play : 0.0005641430666817105\n",
      "Role Playing;Pretend Play : 0.0004513144533453684\n",
      "Education;Creativity : 0.0004513144533453684\n",
      "Role Playing;Action & Adventure : 0.0003384858400090263\n",
      "Puzzle;Action & Adventure : 0.0003384858400090263\n",
      "Entertainment;Creativity : 0.0003384858400090263\n",
      "Entertainment;Action & Adventure : 0.0003384858400090263\n",
      "Educational;Creativity : 0.0003384858400090263\n",
      "Educational;Action & Adventure : 0.0003384858400090263\n",
      "Education;Music & Video : 0.0003384858400090263\n",
      "Education;Brain Games : 0.0003384858400090263\n",
      "Education;Action & Adventure : 0.0003384858400090263\n",
      "Adventure;Action & Adventure : 0.0003384858400090263\n",
      "Video Players & Editors;Music & Video : 0.0002256572266726842\n",
      "Sports;Action & Adventure : 0.0002256572266726842\n",
      "Simulation;Pretend Play : 0.0002256572266726842\n",
      "Puzzle;Creativity : 0.0002256572266726842\n",
      "Music;Music & Video : 0.0002256572266726842\n",
      "Entertainment;Pretend Play : 0.0002256572266726842\n",
      "Casual;Education : 0.0002256572266726842\n",
      "Board;Action & Adventure : 0.0002256572266726842\n",
      "Video Players & Editors;Creativity : 0.0001128286133363421\n",
      "Trivia;Education : 0.0001128286133363421\n",
      "Travel & Local;Action & Adventure : 0.0001128286133363421\n",
      "Tools;Education : 0.0001128286133363421\n",
      "Strategy;Education : 0.0001128286133363421\n",
      "Strategy;Creativity : 0.0001128286133363421\n",
      "Strategy;Action & Adventure : 0.0001128286133363421\n",
      "Simulation;Education : 0.0001128286133363421\n",
      "Role Playing;Brain Games : 0.0001128286133363421\n",
      "Racing;Pretend Play : 0.0001128286133363421\n",
      "Puzzle;Education : 0.0001128286133363421\n",
      "Parenting;Brain Games : 0.0001128286133363421\n",
      "Music & Audio;Music & Video : 0.0001128286133363421\n",
      "Lifestyle;Pretend Play : 0.0001128286133363421\n",
      "Lifestyle;Education : 0.0001128286133363421\n",
      "Health & Fitness;Education : 0.0001128286133363421\n",
      "Health & Fitness;Action & Adventure : 0.0001128286133363421\n",
      "Entertainment;Education : 0.0001128286133363421\n",
      "Communication;Creativity : 0.0001128286133363421\n",
      "Comics;Creativity : 0.0001128286133363421\n",
      "Casual;Music & Video : 0.0001128286133363421\n",
      "Card;Action & Adventure : 0.0001128286133363421\n",
      "Books & Reference;Education : 0.0001128286133363421\n",
      "Art & Design;Pretend Play : 0.0001128286133363421\n",
      "Art & Design;Action & Adventure : 0.0001128286133363421\n",
      "Arcade;Pretend Play : 0.0001128286133363421\n",
      "Adventure;Education : 0.0001128286133363421\n",
      "\n",
      "Google Category:\n",
      "FAMILY : 0.18898792733837302\n",
      "GAME : 0.09725826469592688\n",
      "TOOLS : 0.08462146000225657\n",
      "BUSINESS : 0.04592124562789123\n",
      "LIFESTYLE : 0.03903870021437437\n",
      "PRODUCTIVITY : 0.038925871601038026\n",
      "FINANCE : 0.037007785174320205\n",
      "MEDICAL : 0.03531535597427508\n",
      "SPORTS : 0.03396141261423897\n",
      "PERSONALIZATION : 0.03317161232088458\n",
      "COMMUNICATION : 0.03238181202753018\n",
      "HEALTH_AND_FITNESS : 0.030802211440821393\n",
      "PHOTOGRAPHY : 0.029448268080785288\n",
      "NEWS_AND_MAGAZINES : 0.02798149610741284\n",
      "SOCIAL : 0.026627552747376736\n",
      "TRAVEL_AND_LOCAL : 0.023355522960622814\n",
      "SHOPPING : 0.02245289405393208\n",
      "BOOKS_AND_REFERENCE : 0.021437436533904997\n",
      "DATING : 0.018616721200496445\n",
      "VIDEO_PLAYERS : 0.017939749520478394\n",
      "MAPS_AND_NAVIGATION : 0.01399074805370642\n",
      "FOOD_AND_DRINK : 0.01241114746699763\n",
      "EDUCATION : 0.011621347173643236\n",
      "ENTERTAINMENT : 0.009590432133589078\n",
      "LIBRARIES_AND_DEMO : 0.009364774906916394\n",
      "AUTO_AND_VEHICLES : 0.009251946293580051\n",
      "HOUSE_AND_HOME : 0.008236488773552974\n",
      "WEATHER : 0.008010831546880289\n",
      "EVENTS : 0.007108202640189552\n",
      "PARENTING : 0.0065440595735078416\n",
      "ART_AND_DESIGN : 0.006431230960171499\n",
      "COMICS : 0.006205573733498815\n",
      "BEAUTY : 0.0059799165068261315\n"
     ]
    }
   ],
   "source": [
    "def display_table(dataset, index):\n",
    "    table = freq_table(dataset, index)\n",
    "    table_display = []\n",
    "    for key in table:\n",
    "        key_val_as_tuple = (table[key], key)\n",
    "        table_display.append(key_val_as_tuple)\n",
    "\n",
    "    table_sorted = sorted(table_display, reverse = True)\n",
    "    for entry in table_sorted:\n",
    "        print(entry[1], ':', entry[0])\n",
    "print('Apple Prime Genre:')\n",
    "display_table(ios_english_free, 11)\n",
    "print('\\nGoogle Genres:')\n",
    "display_table(android_clean_english_free, 9)\n",
    "print('\\nGoogle Category:')\n",
    "display_table(android_clean_english_free, 1)"
   ]
  },
  {
   "cell_type": "markdown",
   "metadata": {},
   "source": [
    "Above, we see a frequency table for the percentage of free English apps from each of Apple Prime Genre, Android Category and Android Genre.  It should be pointed out, though, that the apps are not classified in the same manner.  For example, the leading classification among Android apps, 'Family' which account for 19% of free English apps, is not even a category for iOS apps.  Thus a direct comparison is not possible.  \n",
    "\n",
    "Nevertheless, we see some significant differences between the breakdown of Apple apps vs. Google apps.  Above all, we see that games dominate the list of free English apps on The App Store.  In fact, more than half of all apps in that format are games.  Adding in entertainment based apps and social media apps, apps designed for fun account for more than 2/3 of all free English iOS apps.  \n",
    "\n",
    "On the other hand, the breakdown of Google apps appears much more balanced.  Games account for less than 10% of the Google apps.  Whereas iOS apps tend to be heavily skewed towards fun oriented apps, many anroid apps are designed for productivity.  Tools represent 8.5% of the Google apps, business apps are 4.6% of the total and productivity apps are 3.9%.  \n",
    "\n",
    "According to our stated plan, the ultimate success of the app would come through the iOS release.  Therefore, we recommend developing an app likely to succeed on the platform.  Of course the fact that games dominate the App store does not necessarily mean they also have the most users.  Nevertheless, it is reasonable to believe that developers would not release so many games unless they had some success generating ad revenue.  Thus we recommend the client develop a free English based game app which are prevalent on Google Play (#2) and dominate the App Store (#1).  "
   ]
  },
  {
   "cell_type": "markdown",
   "metadata": {
    "collapsed": false
   },
   "source": [
    "In the next section we'll explore average usage among the different categories."
   ]
  },
  {
   "cell_type": "code",
   "execution_count": 16,
   "metadata": {
    "collapsed": false
   },
   "outputs": [
    {
     "name": "stdout",
     "output_type": "stream",
     "text": [
      "Sports: 20,129.0 (79)\n",
      "Shopping: 18,746.7 (121)\n",
      "Travel: 20,216.0 (56)\n",
      "Utilities: 14,010.1 (109)\n",
      "Book: 8,498.3 (66)\n",
      "Education: 6,266.3 (132)\n",
      "Finance: 13,522.3 (84)\n",
      "Weather: 47,220.9 (31)\n",
      "Photo & Video: 27,249.9 (167)\n",
      "Productivity: 19,053.9 (62)\n",
      "Business: 6,367.8 (20)\n",
      "Music: 56,482.0 (67)\n",
      "Health & Fitness: 19,952.3 (76)\n",
      "Reference: 67,447.9 (20)\n",
      "News: 15,892.7 (58)\n",
      "Navigation: 25,972.0 (20)\n",
      "Games: 18,924.7 (2,257)\n",
      "Catalogs: 1,779.6 (9)\n",
      "Medical: 459.8 (8)\n",
      "Entertainment: 10,823.0 (334)\n",
      "Lifestyle: 8,978.3 (94)\n",
      "Social Networking: 53,078.2 (143)\n",
      "Food & Drink: 20,179.1 (43)\n"
     ]
    }
   ],
   "source": [
    "apple_genres = freq_table(ios_english_free, 11)\n",
    "for genre in apple_genres:\n",
    "    total = 0\n",
    "    len_genre = 0\n",
    "    for row in ios_english_free:\n",
    "        genre_app = row[11]\n",
    "        if genre_app == genre:\n",
    "            ratings = float(row[5])\n",
    "            total += ratings\n",
    "            len_genre += 1\n",
    "    average_genre = total / len_genre\n",
    "    print(\"{}: {:,.1f} ({:,.0f})\".format(genre, average_genre, len_genre))"
   ]
  },
  {
   "cell_type": "markdown",
   "metadata": {},
   "source": [
    "Based on the table above, the genres with the highest average number of reviews are Reference (67,448), Music (56,482) and Social Networking (53,078).  These genres would seem to be attractive areas to target.  Still, while these genres have high averages, there aren't many apps in each category.  This fact implies that the high average is being driven by just a few very popular apps.  For example, among social networking apps, Facebook has the highest total reviews among iOS apps with just under 3 million.  It would be hard to produce another social networking app with such a formidable competitor. Similarly, free music apps are dominated by Pandora.  While games has a much lower average at just under 19,000 reviews, this category more than 2,200 apps which indicates that the average is not driven by 1 app.  Therefore, this area still appears the most attractive."
   ]
  },
  {
   "cell_type": "code",
   "execution_count": 25,
   "metadata": {
    "collapsed": false
   },
   "outputs": [
    {
     "name": "stdout",
     "output_type": "stream",
     "text": [
      "ENTERTAINMENT: 11,640,705.9 (85)\n",
      "GAME: 15,588,015.6 (862)\n",
      "SPORTS: 3,638,640.1 (301)\n",
      "PARENTING: 542,603.6 (58)\n",
      "DATING: 854,028.8 (165)\n",
      "PRODUCTIVITY: 16,787,331.3 (345)\n",
      "MAPS_AND_NAVIGATION: 4,056,941.8 (124)\n",
      "TRAVEL_AND_LOCAL: 13,984,077.7 (207)\n",
      "SHOPPING: 7,036,877.3 (199)\n",
      "PERSONALIZATION: 5,201,482.6 (294)\n",
      "COMMUNICATION: 38,456,119.2 (287)\n",
      "MEDICAL: 120,550.6 (313)\n",
      "WEATHER: 5,074,486.2 (71)\n",
      "PHOTOGRAPHY: 17,840,110.4 (261)\n",
      "COMICS: 817,657.3 (55)\n",
      "HEALTH_AND_FITNESS: 4,188,822.0 (273)\n",
      "LIFESTYLE: 1,437,816.3 (346)\n",
      "ART_AND_DESIGN: 1,986,335.1 (57)\n",
      "FOOD_AND_DRINK: 1,924,897.7 (110)\n",
      "TOOLS: 10,801,391.3 (750)\n",
      "FAMILY: 3,697,848.2 (1,675)\n",
      "EVENTS: 253,542.2 (63)\n",
      "BEAUTY: 513,151.9 (53)\n",
      "NEWS_AND_MAGAZINES: 9,549,178.5 (248)\n",
      "VIDEO_PLAYERS: 24,727,872.5 (159)\n",
      "EDUCATION: 1,833,495.1 (103)\n",
      "HOUSE_AND_HOME: 1,331,540.6 (73)\n",
      "BUSINESS: 1,712,290.1 (407)\n",
      "AUTO_AND_VEHICLES: 647,317.8 (82)\n",
      "FINANCE: 1,387,692.5 (328)\n",
      "SOCIAL: 23,253,652.1 (236)\n",
      "BOOKS_AND_REFERENCE: 8,767,811.9 (190)\n",
      "LIBRARIES_AND_DEMO: 638,503.7 (83)\n"
     ]
    }
   ],
   "source": [
    "android_genres = freq_table(android_clean_english_free, 1)\n",
    "for genre in android_genres:\n",
    "    total = 0\n",
    "    len_genre = 0\n",
    "    for row in android_clean_english_free:\n",
    "        genre_app = row[1]\n",
    "        if genre_app == genre:\n",
    "            installs = row[5]\n",
    "            installs = installs.replace('+', '')\n",
    "            installs = installs.replace(',', '')\n",
    "            installs = float(installs)\n",
    "            total += installs\n",
    "            len_genre += 1\n",
    "    average_genre = total / len_genre\n",
    "    print(\"{}: {:,.1f} ({:,.0f})\".format(genre, average_genre, len_genre))"
   ]
  },
  {
   "cell_type": "markdown",
   "metadata": {
    "collapsed": true
   },
   "source": [
    "Based on the table above, the genres with the highest average number of installs are Communication (38.5 million), Video Players (24.7 million) and Social (23.3 million).  Again, it would seem that it would be difficult to create a successful app in these areas.  Not only are these categories dominated by a few very popular apps, but they also seem to demand very specific expertise.  Specifically, both communication ans video players would require very high degree of domain knowledge which is likely hard to come by or expensive.  \n",
    "\n",
    "One potential area to target based on the list above is Producitivty.  According to the list, this area is just outside the top 3 average installs with just under 17 million.  Additionally, there is a relatively high number of apps in this category which indicates broad level of demand.  The Productivity category also has a solid average number of reviews at 19,000 (or just above games) on the iOS platform which indicates that a successful Android version could translate to a successful iOS version.  \n",
    "\n",
    "In addition to Productivity, games also appears to be an attractive category on Google Play.  There are a high number of apps (862) as well as a relatively high number of average installs (>15 million).  As we highlighted above, games is also an attractive category on the App Store. "
   ]
  },
  {
   "cell_type": "markdown",
   "metadata": {},
   "source": [
    "While deeper analysis would be beneficial here, our initial recommendation would be to focus either on the Productivity category or the Gaming category.  "
   ]
  }
 ],
 "metadata": {
  "kernelspec": {
   "display_name": "Python 3",
   "language": "python",
   "name": "python3"
  },
  "language_info": {
   "codemirror_mode": {
    "name": "ipython",
    "version": 3
   },
   "file_extension": ".py",
   "mimetype": "text/x-python",
   "name": "python",
   "nbconvert_exporter": "python",
   "pygments_lexer": "ipython3",
   "version": "3.4.3"
  }
 },
 "nbformat": 4,
 "nbformat_minor": 2
}
