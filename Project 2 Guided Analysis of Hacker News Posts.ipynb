{
 "cells": [
  {
   "cell_type": "markdown",
   "metadata": {
    "collapsed": true
   },
   "source": [
    "# Hacker News Posts\n",
    "\n",
    "Do posts on the Hacker News website with the tags \"Ask HN\" and \"Show HN\" receive more comments on average than posts without these tags?\n",
    "\n",
    "We will try to answer this question by analyzing data from recent 20,000 posts on the site"
   ]
  },
  {
   "cell_type": "code",
   "execution_count": 1,
   "metadata": {
    "collapsed": false
   },
   "outputs": [
    {
     "name": "stdout",
     "output_type": "stream",
     "text": [
      "[['id', 'title', 'url', 'num_points', 'num_comments', 'author', 'created_at'], ['12224879', 'Interactive Dynamic Video', 'http://www.interactivedynamicvideo.com/', '386', '52', 'ne0phyte', '8/4/2016 11:52'], ['10975351', 'How to Use Open Source and Shut the Fuck Up at the Same Time', 'http://hueniverse.com/2016/01/26/how-to-use-open-source-and-shut-the-fuck-up-at-the-same-time/', '39', '10', 'josep2', '1/26/2016 19:30'], ['11964716', \"Florida DJs May Face Felony for April Fools' Water Joke\", 'http://www.thewire.com/entertainment/2013/04/florida-djs-april-fools-water-joke/63798/', '2', '1', 'vezycash', '6/23/2016 22:20'], ['11919867', 'Technology ventures: From Idea to Enterprise', 'https://www.amazon.com/Technology-Ventures-Enterprise-Thomas-Byers/dp/0073523429', '3', '1', 'hswarna', '6/17/2016 0:01']]\n"
     ]
    }
   ],
   "source": [
    "import csv\n",
    "data_set = open(\"hacker_news.csv\")\n",
    "hn = list(csv.reader(data_set))\n",
    "print(hn[:5])"
   ]
  },
  {
   "cell_type": "code",
   "execution_count": 2,
   "metadata": {
    "collapsed": false,
    "scrolled": true
   },
   "outputs": [
    {
     "data": {
      "text/plain": [
       "[['12224879',\n",
       "  'Interactive Dynamic Video',\n",
       "  'http://www.interactivedynamicvideo.com/',\n",
       "  '386',\n",
       "  '52',\n",
       "  'ne0phyte',\n",
       "  '8/4/2016 11:52'],\n",
       " ['10975351',\n",
       "  'How to Use Open Source and Shut the Fuck Up at the Same Time',\n",
       "  'http://hueniverse.com/2016/01/26/how-to-use-open-source-and-shut-the-fuck-up-at-the-same-time/',\n",
       "  '39',\n",
       "  '10',\n",
       "  'josep2',\n",
       "  '1/26/2016 19:30'],\n",
       " ['11964716',\n",
       "  \"Florida DJs May Face Felony for April Fools' Water Joke\",\n",
       "  'http://www.thewire.com/entertainment/2013/04/florida-djs-april-fools-water-joke/63798/',\n",
       "  '2',\n",
       "  '1',\n",
       "  'vezycash',\n",
       "  '6/23/2016 22:20'],\n",
       " ['11919867',\n",
       "  'Technology ventures: From Idea to Enterprise',\n",
       "  'https://www.amazon.com/Technology-Ventures-Enterprise-Thomas-Byers/dp/0073523429',\n",
       "  '3',\n",
       "  '1',\n",
       "  'hswarna',\n",
       "  '6/17/2016 0:01'],\n",
       " ['10301696',\n",
       "  'Note by Note: The Making of Steinway L1037 (2007)',\n",
       "  'http://www.nytimes.com/2007/11/07/movies/07stein.html?_r=0',\n",
       "  '8',\n",
       "  '2',\n",
       "  'walterbell',\n",
       "  '9/30/2015 4:12']]"
      ]
     },
     "execution_count": 2,
     "metadata": {},
     "output_type": "execute_result"
    }
   ],
   "source": [
    "headers = hn[0]\n",
    "hn = hn[1:]\n",
    "hn[0:5]"
   ]
  },
  {
   "cell_type": "code",
   "execution_count": 3,
   "metadata": {
    "collapsed": false
   },
   "outputs": [
    {
     "name": "stdout",
     "output_type": "stream",
     "text": [
      "1744 1162 17194\n"
     ]
    }
   ],
   "source": [
    "import re\n",
    "pattern1 = r\"^Ask HN\"\n",
    "pattern2 = r\"^Show HN\"\n",
    "ask_posts = []\n",
    "show_posts = []\n",
    "other_posts = []\n",
    "for row in hn:\n",
    "    title = row[1]\n",
    "    match1 = re.search(pattern1, title, flags=re.I)\n",
    "    match2 = re.search(pattern2, title, flags=re.I)\n",
    "    if match1:\n",
    "        ask_posts.append(row)\n",
    "    elif match2:\n",
    "        show_posts.append(row)\n",
    "    else:\n",
    "        other_posts.append(row)\n",
    "print(len(ask_posts), len(show_posts), len(other_posts))"
   ]
  },
  {
   "cell_type": "code",
   "execution_count": 32,
   "metadata": {
    "collapsed": false
   },
   "outputs": [
    {
     "name": "stdout",
     "output_type": "stream",
     "text": [
      "Average 'Ask HN' comments: 14.0\n",
      "Average 'Show HN' comments: 10.3\n",
      "Average 'Other' comments: 26.9\n"
     ]
    }
   ],
   "source": [
    "ask_comments = [int(row[4]) for row in ask_posts]\n",
    "show_comments = [int(row[4]) for row in show_posts]\n",
    "other_comments = [int(row[4]) for row in other_posts]\n",
    "avg_ask_comments = sum(ask_comments) / len(ask_comments)\n",
    "avg_show_comments = sum(show_comments) / len(show_comments)\n",
    "avg_other_comments = sum(other_comments) / len(other_comments)\n",
    "print(\"Average 'Ask HN' comments: {:.1f}\\nAverage 'Show HN' comments: {:.1f}\\nAverage 'Other' comments: {:.1f}\".format(avg_ask_comments, avg_show_comments, avg_other_comments))"
   ]
  },
  {
   "cell_type": "markdown",
   "metadata": {},
   "source": [
    "As shown above, the average 'Ask HN' post receives 40% more comments (14) than the average 'Show HN'.  Intuitively, this makes sense since an 'Ask HN' is actively soliciting feedback (ie answers) whereas a 'Show HN' isn't directly asking for responses.  Interestingly, the average 'Other' post (neither 'Ask HN' nor 'Show HN' post) has a much higher average (27) comments than either 'Ask HN' posts or 'Show HN' posts.  We'll explore how time impacts the number of comments next."
   ]
  },
  {
   "cell_type": "code",
   "execution_count": 19,
   "metadata": {
    "collapsed": false
   },
   "outputs": [],
   "source": [
    "import datetime as dt\n",
    "created_date = [row[6] for row in ask_posts]\n",
    "counts_by_hour = {}\n",
    "comments_by_hour = {}\n",
    "result_list = [[item1, item2] for item1, item2 in zip(created_date, ask_comments)]\n",
    "for date, comment in result_list:\n",
    "    date = dt.datetime.strptime(date, '%m/%d/%Y %H:%M')\n",
    "    hour = date.strftime('%H')\n",
    "    if hour not in counts_by_hour:\n",
    "        counts_by_hour[hour] = 1\n",
    "        comments_by_hour[hour] = comment\n",
    "    else:\n",
    "        counts_by_hour[hour] += 1\n",
    "        comments_by_hour[hour] += comment"
   ]
  },
  {
   "cell_type": "code",
   "execution_count": 25,
   "metadata": {
    "collapsed": false
   },
   "outputs": [],
   "source": [
    "avg_by_hour = [[i, comments_by_hour[i] / counts_by_hour[i]] for i in comments_by_hour]"
   ]
  },
  {
   "cell_type": "code",
   "execution_count": 26,
   "metadata": {
    "collapsed": false
   },
   "outputs": [
    {
     "name": "stdout",
     "output_type": "stream",
     "text": [
      "[['08', 10.25], ['23', 7.985294117647059], ['03', 7.796296296296297], ['10', 13.440677966101696], ['12', 9.41095890410959], ['01', 11.383333333333333], ['16', 16.796296296296298], ['15', 38.5948275862069], ['22', 6.746478873239437], ['11', 11.051724137931034], ['14', 13.233644859813085], ['09', 5.5777777777777775], ['17', 11.46], ['06', 9.022727272727273], ['19', 10.8], ['18', 13.20183486238532], ['21', 16.009174311926607], ['05', 10.08695652173913], ['04', 7.170212765957447], ['07', 7.852941176470588], ['00', 8.127272727272727], ['20', 21.525], ['13', 14.741176470588234], ['02', 23.810344827586206]]\n"
     ]
    }
   ],
   "source": [
    "print(avg_by_hour)"
   ]
  },
  {
   "cell_type": "code",
   "execution_count": 31,
   "metadata": {
    "collapsed": false
   },
   "outputs": [
    {
     "name": "stdout",
     "output_type": "stream",
     "text": [
      "15:00: 38.59 average comments per post\n",
      "02:00: 23.81 average comments per post\n",
      "20:00: 21.52 average comments per post\n",
      "16:00: 16.80 average comments per post\n",
      "21:00: 16.01 average comments per post\n"
     ]
    }
   ],
   "source": [
    "avg_by_hour = sorted(avg_by_hour, key = lambda x: x[1], reverse = True)\n",
    "for i in avg_by_hour[0:5]:\n",
    "    time = dt.datetime.strptime(i[0], '%H')\n",
    "    time = time.strftime('%H:%M')\n",
    "    print(\"{}: {:.2f} average comments per post\".format(time, i[1]))\n",
    "    "
   ]
  },
  {
   "cell_type": "markdown",
   "metadata": {},
   "source": [
    "As seen above, posts created in the evening hours Eastern Time tend to produce more average comments.  4 of the top 5 hours fall between 3:00 PM and 9:00 PM ET. Not surprisingly, these are prime hours of activity for major population centers such as Manhattan, Philadelphia and Boston.  Additionally, most people in West Coast hubs such as LA and San Francicsco are awake during these hours.  And for the later hours during this period (eg. 7:00 PM to 9:00 PM), many people in China arw awake.  Thus to maximize comments, users should consider posting during these hours.  Interestingly, the hour with the second most average comments is 2:00 AM ET.  Perhaps, this is driven by populations outside of the US.  We should explore the data set further to gain further insights."
   ]
  },
  {
   "cell_type": "code",
   "execution_count": null,
   "metadata": {
    "collapsed": true
   },
   "outputs": [],
   "source": []
  }
 ],
 "metadata": {
  "kernelspec": {
   "display_name": "Python 3",
   "language": "python",
   "name": "python3"
  },
  "language_info": {
   "codemirror_mode": {
    "name": "ipython",
    "version": 3
   },
   "file_extension": ".py",
   "mimetype": "text/x-python",
   "name": "python",
   "nbconvert_exporter": "python",
   "pygments_lexer": "ipython3",
   "version": "3.4.3"
  }
 },
 "nbformat": 4,
 "nbformat_minor": 2
}
